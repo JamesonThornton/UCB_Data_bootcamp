{
 "cells": [
  {
   "cell_type": "code",
   "execution_count": 1,
   "id": "444dd07a",
   "metadata": {},
   "outputs": [],
   "source": [
    "import pandas as pd\n",
    "import time\n",
    "import os"
   ]
  },
  {
   "cell_type": "code",
   "execution_count": 2,
   "id": "72b17ba1",
   "metadata": {},
   "outputs": [
    {
     "name": "stdout",
     "output_type": "stream",
     "text": [
      "3.7485127449035645\n"
     ]
    }
   ],
   "source": [
    "strt = time.time()\n",
    "vine_df = pd.read_csv('vine_table.csv')\n",
    "endtime = time.time()\n",
    "print(endtime-strt)"
   ]
  },
  {
   "cell_type": "code",
   "execution_count": 3,
   "id": "11babab8",
   "metadata": {},
   "outputs": [],
   "source": [
    "df_filter = vine_df[vine_df['total_votes']>20]"
   ]
  },
  {
   "cell_type": "code",
   "execution_count": 4,
   "id": "d96f6a67",
   "metadata": {},
   "outputs": [],
   "source": [
    "df_helpful = df_filter[df_filter['helpful_votes']/df_filter['total_votes']>0.5]"
   ]
  },
  {
   "cell_type": "code",
   "execution_count": 5,
   "id": "cf265c16",
   "metadata": {},
   "outputs": [],
   "source": [
    "vine_y = df_helpful[df_helpful['vine']=='Y']\n",
    "vine_n = df_helpful[df_helpful['vine']=='N']"
   ]
  },
  {
   "cell_type": "code",
   "execution_count": 6,
   "id": "1bef2ff3",
   "metadata": {},
   "outputs": [],
   "source": [
    "vine_y_tot = vine_y.shape[0] #total reviews\n",
    "vine_n_tot = vine_n.shape[0]\n",
    "\n",
    "vine_y_5 = vine_y[vine_y['star_rating']==5].shape[0]\n",
    "vine_n_5 = vine_n[vine_n['star_rating']==5].shape[0]\n",
    "\n",
    "vine_y_5pct = vine_y_5/vine_y_tot\n",
    "vine_n_5pct = vine_n_5/vine_n_tot"
   ]
  },
  {
   "cell_type": "code",
   "execution_count": 7,
   "id": "a49c5d88",
   "metadata": {},
   "outputs": [],
   "source": [
    "results = pd.DataFrame([[vine_y_tot,vine_n_tot],\n",
    "                        [vine_y_5,vine_n_5],\n",
    "                        [vine_y_5pct, vine_n_5pct]],\n",
    "                      columns = [\"Vine=Y\", \"Vine=N\"], index=['total', '5* count', 'pct 5*'])"
   ]
  },
  {
   "cell_type": "code",
   "execution_count": 8,
   "id": "77b1ea70",
   "metadata": {},
   "outputs": [
    {
     "data": {
      "text/html": [
       "<div>\n",
       "<style scoped>\n",
       "    .dataframe tbody tr th:only-of-type {\n",
       "        vertical-align: middle;\n",
       "    }\n",
       "\n",
       "    .dataframe tbody tr th {\n",
       "        vertical-align: top;\n",
       "    }\n",
       "\n",
       "    .dataframe thead th {\n",
       "        text-align: right;\n",
       "    }\n",
       "</style>\n",
       "<table border=\"1\" class=\"dataframe\">\n",
       "  <thead>\n",
       "    <tr style=\"text-align: right;\">\n",
       "      <th></th>\n",
       "      <th>Vine=Y</th>\n",
       "      <th>Vine=N</th>\n",
       "    </tr>\n",
       "  </thead>\n",
       "  <tbody>\n",
       "    <tr>\n",
       "      <th>total</th>\n",
       "      <td>1693.000000</td>\n",
       "      <td>72775.000000</td>\n",
       "    </tr>\n",
       "    <tr>\n",
       "      <th>5* count</th>\n",
       "      <td>746.000000</td>\n",
       "      <td>33980.000000</td>\n",
       "    </tr>\n",
       "    <tr>\n",
       "      <th>pct 5*</th>\n",
       "      <td>0.440638</td>\n",
       "      <td>0.466919</td>\n",
       "    </tr>\n",
       "  </tbody>\n",
       "</table>\n",
       "</div>"
      ],
      "text/plain": [
       "               Vine=Y        Vine=N\n",
       "total     1693.000000  72775.000000\n",
       "5* count   746.000000  33980.000000\n",
       "pct 5*       0.440638      0.466919"
      ]
     },
     "execution_count": 8,
     "metadata": {},
     "output_type": "execute_result"
    }
   ],
   "source": [
    "results"
   ]
  },
  {
   "cell_type": "code",
   "execution_count": 16,
   "id": "85e202e7",
   "metadata": {},
   "outputs": [
    {
     "name": "stdout",
     "output_type": "stream",
     "text": [
      "average rating=  4.122\n"
     ]
    },
    {
     "data": {
      "image/png": "[encoded data removed]",
      "text/plain": [
       "<Figure size 640x480 with 1 Axes>"
      ]
     },
     "metadata": {},
     "output_type": "display_data"
    }
   ],
   "source": [
    "vine_y_rate = vine_y['star_rating'].value_counts()/vine_y.shape[0]\n",
    "vine_y_rate.sort_index().plot.bar(title='Vine=Y')\n",
    "print('average rating= ',round(vine_y['star_rating'].mean(),3))"
   ]
  },
  {
   "cell_type": "code",
   "execution_count": 17,
   "id": "0f164d8e",
   "metadata": {},
   "outputs": [
    {
     "name": "stdout",
     "output_type": "stream",
     "text": [
      "average rating=  3.601\n"
     ]
    },
    {
     "data": {
      "image/png": "[encoded data removed]",
      "text/plain": [
       "<Figure size 640x480 with 1 Axes>"
      ]
     },
     "metadata": {},
     "output_type": "display_data"
    }
   ],
   "source": [
    "vine_n_rate= vine_n['star_rating'].value_counts()/vine_n.shape[0]\n",
    "vine_n_rate.sort_index().plot.bar(title='Vine=N')\n",
    "print('average rating= ',round(vine_n['star_rating'].mean(),3))"
   ]
  },
  {
   "cell_type": "markdown",
   "id": "4bfbd63e",
   "metadata": {},
   "source": [
    "### percent of 1* reviews in non-paid vine=N reviews is very high compared to the vine=Y set of 1* reviews\n",
    "### so although the 5* percent is similar, the rest of the data suggests there is an impact on customer reviews correlated with vine=Y"
   ]
  },
  {
   "cell_type": "code",
   "execution_count": null,
   "id": "1f17f052",
   "metadata": {},
   "outputs": [],
   "source": []
  }
 ],
 "metadata": {
  "kernelspec": {
   "display_name": "PythonData",
   "language": "python",
   "name": "pythondata"
  },
  "language_info": {
   "codemirror_mode": {
    "name": "ipython",
    "version": 3
   },
   "file_extension": ".py",
   "mimetype": "text/x-python",
   "name": "python",
   "nbconvert_exporter": "python",
   "pygments_lexer": "ipython3",
   "version": "3.7.13"
  }
 },
 "nbformat": 4,
 "nbformat_minor": 5
}
